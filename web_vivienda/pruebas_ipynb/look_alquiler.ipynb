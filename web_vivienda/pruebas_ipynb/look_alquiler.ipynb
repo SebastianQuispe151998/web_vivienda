{
 "cells": [
  {
   "cell_type": "code",
   "execution_count": 16,
   "metadata": {},
   "outputs": [],
   "source": [
    "import pandas as pd\n",
    "import numpy as np\n",
    "import matplotlib.pyplot as plt\n",
    "import seaborn as sns"
   ]
  },
  {
   "cell_type": "code",
   "execution_count": 24,
   "metadata": {},
   "outputs": [],
   "source": [
    "ruta_del_archivo = '../data/viviendas_web.xlsx'\n",
    "#df=pd.read_excel('data/viviendas_web.xlsx', sheet_name='Sheet1')\n",
    "df = pd.read_excel(ruta_del_archivo)"
   ]
  },
  {
   "cell_type": "code",
   "execution_count": 25,
   "metadata": {},
   "outputs": [
    {
     "data": {
      "text/html": [
       "<div>\n",
       "<style scoped>\n",
       "    .dataframe tbody tr th:only-of-type {\n",
       "        vertical-align: middle;\n",
       "    }\n",
       "\n",
       "    .dataframe tbody tr th {\n",
       "        vertical-align: top;\n",
       "    }\n",
       "\n",
       "    .dataframe thead th {\n",
       "        text-align: right;\n",
       "    }\n",
       "</style>\n",
       "<table border=\"1\" class=\"dataframe\">\n",
       "  <thead>\n",
       "    <tr style=\"text-align: right;\">\n",
       "      <th></th>\n",
       "      <th>Municipio</th>\n",
       "      <th>Provincia</th>\n",
       "      <th>Comunidad Autónoma</th>\n",
       "      <th>Habitantes (2022)</th>\n",
       "      <th>Carril Bici</th>\n",
       "      <th>Rating</th>\n",
       "      <th>Distancia a Madrid (km)</th>\n",
       "      <th>Tiempo de viaje a Madrid (Min)</th>\n",
       "      <th>Precio medio vivienda (EUR/m2)</th>\n",
       "      <th>ICA</th>\n",
       "      <th>Tipo_vivienda</th>\n",
       "      <th>Precio</th>\n",
       "      <th>Superficie</th>\n",
       "      <th>Habitaciones</th>\n",
       "      <th>Baños</th>\n",
       "      <th>Comprado</th>\n",
       "    </tr>\n",
       "  </thead>\n",
       "  <tbody>\n",
       "    <tr>\n",
       "      <th>0</th>\n",
       "      <td>Alcalá de Henares</td>\n",
       "      <td>Madrid</td>\n",
       "      <td>Madrid</td>\n",
       "      <td>196888.0</td>\n",
       "      <td>1</td>\n",
       "      <td>6.9</td>\n",
       "      <td>40</td>\n",
       "      <td>39</td>\n",
       "      <td>3500</td>\n",
       "      <td>127</td>\n",
       "      <td>Chalet</td>\n",
       "      <td>1500.0</td>\n",
       "      <td>139.0</td>\n",
       "      <td>5</td>\n",
       "      <td>3</td>\n",
       "      <td>1</td>\n",
       "    </tr>\n",
       "    <tr>\n",
       "      <th>1</th>\n",
       "      <td>Alcalá de Henares</td>\n",
       "      <td>Madrid</td>\n",
       "      <td>Madrid</td>\n",
       "      <td>196888.0</td>\n",
       "      <td>1</td>\n",
       "      <td>6.9</td>\n",
       "      <td>40</td>\n",
       "      <td>39</td>\n",
       "      <td>3500</td>\n",
       "      <td>127</td>\n",
       "      <td>Piso</td>\n",
       "      <td>1290.0</td>\n",
       "      <td>116.0</td>\n",
       "      <td>4</td>\n",
       "      <td>2</td>\n",
       "      <td>0</td>\n",
       "    </tr>\n",
       "    <tr>\n",
       "      <th>2</th>\n",
       "      <td>Alcalá de Henares</td>\n",
       "      <td>Madrid</td>\n",
       "      <td>Madrid</td>\n",
       "      <td>196888.0</td>\n",
       "      <td>1</td>\n",
       "      <td>6.9</td>\n",
       "      <td>40</td>\n",
       "      <td>39</td>\n",
       "      <td>3500</td>\n",
       "      <td>127</td>\n",
       "      <td>Piso</td>\n",
       "      <td>925.0</td>\n",
       "      <td>70.0</td>\n",
       "      <td>2</td>\n",
       "      <td>1</td>\n",
       "      <td>1</td>\n",
       "    </tr>\n",
       "    <tr>\n",
       "      <th>3</th>\n",
       "      <td>Alcalá de Henares</td>\n",
       "      <td>Madrid</td>\n",
       "      <td>Madrid</td>\n",
       "      <td>196888.0</td>\n",
       "      <td>1</td>\n",
       "      <td>6.9</td>\n",
       "      <td>40</td>\n",
       "      <td>39</td>\n",
       "      <td>3500</td>\n",
       "      <td>127</td>\n",
       "      <td>Piso</td>\n",
       "      <td>1400.0</td>\n",
       "      <td>107.0</td>\n",
       "      <td>2</td>\n",
       "      <td>2</td>\n",
       "      <td>1</td>\n",
       "    </tr>\n",
       "    <tr>\n",
       "      <th>4</th>\n",
       "      <td>Alcalá de Henares</td>\n",
       "      <td>Madrid</td>\n",
       "      <td>Madrid</td>\n",
       "      <td>196888.0</td>\n",
       "      <td>1</td>\n",
       "      <td>6.9</td>\n",
       "      <td>40</td>\n",
       "      <td>39</td>\n",
       "      <td>3500</td>\n",
       "      <td>127</td>\n",
       "      <td>Piso</td>\n",
       "      <td>875.0</td>\n",
       "      <td>57.0</td>\n",
       "      <td>3</td>\n",
       "      <td>1</td>\n",
       "      <td>0</td>\n",
       "    </tr>\n",
       "  </tbody>\n",
       "</table>\n",
       "</div>"
      ],
      "text/plain": [
       "           Municipio Provincia Comunidad Autónoma  Habitantes (2022)  \\\n",
       "0  Alcalá de Henares    Madrid             Madrid           196888.0   \n",
       "1  Alcalá de Henares    Madrid             Madrid           196888.0   \n",
       "2  Alcalá de Henares    Madrid             Madrid           196888.0   \n",
       "3  Alcalá de Henares    Madrid             Madrid           196888.0   \n",
       "4  Alcalá de Henares    Madrid             Madrid           196888.0   \n",
       "\n",
       "   Carril Bici  Rating  Distancia a Madrid (km)  \\\n",
       "0            1     6.9                       40   \n",
       "1            1     6.9                       40   \n",
       "2            1     6.9                       40   \n",
       "3            1     6.9                       40   \n",
       "4            1     6.9                       40   \n",
       "\n",
       "   Tiempo de viaje a Madrid (Min)  Precio medio vivienda (EUR/m2)  ICA  \\\n",
       "0                              39                            3500  127   \n",
       "1                              39                            3500  127   \n",
       "2                              39                            3500  127   \n",
       "3                              39                            3500  127   \n",
       "4                              39                            3500  127   \n",
       "\n",
       "  Tipo_vivienda  Precio  Superficie  Habitaciones  Baños  Comprado  \n",
       "0        Chalet  1500.0       139.0             5      3         1  \n",
       "1          Piso  1290.0       116.0             4      2         0  \n",
       "2          Piso   925.0        70.0             2      1         1  \n",
       "3          Piso  1400.0       107.0             2      2         1  \n",
       "4          Piso   875.0        57.0             3      1         0  "
      ]
     },
     "execution_count": 25,
     "metadata": {},
     "output_type": "execute_result"
    }
   ],
   "source": [
    "df.head()"
   ]
  },
  {
   "cell_type": "code",
   "execution_count": 26,
   "metadata": {},
   "outputs": [
    {
     "data": {
      "text/plain": [
       "array(['Chalet', 'Piso', 'Casa', 'Casa pareada'], dtype=object)"
      ]
     },
     "execution_count": 26,
     "metadata": {},
     "output_type": "execute_result"
    }
   ],
   "source": [
    "df[\"Tipo_vivienda\"].unique()"
   ]
  },
  {
   "cell_type": "code",
   "execution_count": 27,
   "metadata": {},
   "outputs": [
    {
     "data": {
      "text/plain": [
       "Municipio                          object\n",
       "Provincia                          object\n",
       "Comunidad Autónoma                 object\n",
       "Habitantes (2022)                 float64\n",
       "Carril Bici                         int64\n",
       "Rating                            float64\n",
       "Distancia a Madrid (km)             int64\n",
       "Tiempo de viaje a Madrid (Min)      int64\n",
       "Precio medio vivienda (EUR/m2)      int64\n",
       "ICA                                 int64\n",
       "Tipo_vivienda                      object\n",
       "Precio                            float64\n",
       "Superficie                        float64\n",
       "Habitaciones                        int64\n",
       "Baños                               int64\n",
       "Comprado                            int64\n",
       "dtype: object"
      ]
     },
     "execution_count": 27,
     "metadata": {},
     "output_type": "execute_result"
    }
   ],
   "source": [
    "df.dtypes"
   ]
  },
  {
   "cell_type": "code",
   "execution_count": 28,
   "metadata": {},
   "outputs": [
    {
     "data": {
      "text/plain": [
       "array([39, 31,  0, 21, 28, 34, 25, 29, 27], dtype=int64)"
      ]
     },
     "execution_count": 28,
     "metadata": {},
     "output_type": "execute_result"
    }
   ],
   "source": [
    "df[\"Tiempo de viaje a Madrid (Min)\"].unique()"
   ]
  },
  {
   "cell_type": "code",
   "execution_count": 9,
   "metadata": {},
   "outputs": [
    {
     "data": {
      "text/plain": [
       "array(['Chalet', 'Piso', 'Casa', 'Casa pareada'], dtype=object)"
      ]
     },
     "execution_count": 9,
     "metadata": {},
     "output_type": "execute_result"
    }
   ],
   "source": [
    "df[\"Tipo_vivienda\"].unique()"
   ]
  },
  {
   "cell_type": "code",
   "execution_count": 10,
   "metadata": {},
   "outputs": [
    {
     "data": {
      "text/plain": [
       "array([6.9, 7.7, 8.9, 7.9, 8.6, 9.5, 7.5, 6.4])"
      ]
     },
     "execution_count": 10,
     "metadata": {},
     "output_type": "execute_result"
    }
   ],
   "source": [
    "df[\"Rating\"].unique()"
   ]
  },
  {
   "cell_type": "code",
   "execution_count": 11,
   "metadata": {},
   "outputs": [
    {
     "data": {
      "text/plain": [
       "array([127, 137, 149, 125, 115, 130, 110, 123, 120, 133], dtype=int64)"
      ]
     },
     "execution_count": 11,
     "metadata": {},
     "output_type": "execute_result"
    }
   ],
   "source": [
    "df[\"ICA\"].unique()"
   ]
  },
  {
   "cell_type": "code",
   "execution_count": 12,
   "metadata": {},
   "outputs": [
    {
     "data": {
      "text/plain": [
       "array(['Alcalá de Henares', 'San Sebastián de los Reyes',\n",
       "       'Madrid Capital', 'Pozuelo de Alarcón', 'Móstoles', 'Fuenlabrada',\n",
       "       'Las Rozas de Madrid', 'La Moraleja', 'Other', 'Majadahonda',\n",
       "       'Boadilla del Monte'], dtype=object)"
      ]
     },
     "execution_count": 12,
     "metadata": {},
     "output_type": "execute_result"
    }
   ],
   "source": [
    "df[\"Municipio\"].unique()"
   ]
  },
  {
   "cell_type": "markdown",
   "metadata": {},
   "source": [
    "### consultas "
   ]
  },
  {
   "cell_type": "code",
   "execution_count": 13,
   "metadata": {},
   "outputs": [
    {
     "data": {
      "text/plain": [
       "0    Piso\n",
       "Name: Tipo_vivienda, dtype: object"
      ]
     },
     "execution_count": 13,
     "metadata": {},
     "output_type": "execute_result"
    }
   ],
   "source": [
    "df[\"Tipo_vivienda\"].mode()"
   ]
  },
  {
   "cell_type": "code",
   "execution_count": 14,
   "metadata": {},
   "outputs": [
    {
     "data": {
      "text/plain": [
       "7.4562091503267975"
      ]
     },
     "execution_count": 14,
     "metadata": {},
     "output_type": "execute_result"
    }
   ],
   "source": [
    "df[\"Distancia a Madrid (km)\"].mean()"
   ]
  },
  {
   "cell_type": "code",
   "execution_count": 15,
   "metadata": {},
   "outputs": [
    {
     "data": {
      "text/plain": [
       "149.0"
      ]
     },
     "execution_count": 15,
     "metadata": {},
     "output_type": "execute_result"
    }
   ],
   "source": [
    "df[\"ICA\"].median()"
   ]
  },
  {
   "cell_type": "markdown",
   "metadata": {},
   "source": [
    "# Probando cositas"
   ]
  },
  {
   "cell_type": "markdown",
   "metadata": {},
   "source": [
    "### Arbol de desicion"
   ]
  },
  {
   "cell_type": "code",
   "execution_count": 29,
   "metadata": {},
   "outputs": [
    {
     "data": {
      "text/html": [
       "<div>\n",
       "<style scoped>\n",
       "    .dataframe tbody tr th:only-of-type {\n",
       "        vertical-align: middle;\n",
       "    }\n",
       "\n",
       "    .dataframe tbody tr th {\n",
       "        vertical-align: top;\n",
       "    }\n",
       "\n",
       "    .dataframe thead th {\n",
       "        text-align: right;\n",
       "    }\n",
       "</style>\n",
       "<table border=\"1\" class=\"dataframe\">\n",
       "  <thead>\n",
       "    <tr style=\"text-align: right;\">\n",
       "      <th></th>\n",
       "      <th>Municipio</th>\n",
       "      <th>Provincia</th>\n",
       "      <th>Comunidad Autónoma</th>\n",
       "      <th>Habitantes (2022)</th>\n",
       "      <th>Carril Bici</th>\n",
       "      <th>Rating</th>\n",
       "      <th>Distancia a Madrid (km)</th>\n",
       "      <th>Tiempo de viaje a Madrid (Min)</th>\n",
       "      <th>Precio medio vivienda (EUR/m2)</th>\n",
       "      <th>ICA</th>\n",
       "      <th>Tipo_vivienda</th>\n",
       "      <th>Precio</th>\n",
       "      <th>Superficie</th>\n",
       "      <th>Habitaciones</th>\n",
       "      <th>Baños</th>\n",
       "      <th>Comprado</th>\n",
       "    </tr>\n",
       "  </thead>\n",
       "  <tbody>\n",
       "    <tr>\n",
       "      <th>0</th>\n",
       "      <td>Alcalá de Henares</td>\n",
       "      <td>Madrid</td>\n",
       "      <td>Madrid</td>\n",
       "      <td>196888.0</td>\n",
       "      <td>1</td>\n",
       "      <td>6.9</td>\n",
       "      <td>40</td>\n",
       "      <td>39</td>\n",
       "      <td>3500</td>\n",
       "      <td>127</td>\n",
       "      <td>Chalet</td>\n",
       "      <td>1500.0</td>\n",
       "      <td>139.0</td>\n",
       "      <td>5</td>\n",
       "      <td>3</td>\n",
       "      <td>1</td>\n",
       "    </tr>\n",
       "    <tr>\n",
       "      <th>1</th>\n",
       "      <td>Alcalá de Henares</td>\n",
       "      <td>Madrid</td>\n",
       "      <td>Madrid</td>\n",
       "      <td>196888.0</td>\n",
       "      <td>1</td>\n",
       "      <td>6.9</td>\n",
       "      <td>40</td>\n",
       "      <td>39</td>\n",
       "      <td>3500</td>\n",
       "      <td>127</td>\n",
       "      <td>Piso</td>\n",
       "      <td>1290.0</td>\n",
       "      <td>116.0</td>\n",
       "      <td>4</td>\n",
       "      <td>2</td>\n",
       "      <td>0</td>\n",
       "    </tr>\n",
       "    <tr>\n",
       "      <th>2</th>\n",
       "      <td>Alcalá de Henares</td>\n",
       "      <td>Madrid</td>\n",
       "      <td>Madrid</td>\n",
       "      <td>196888.0</td>\n",
       "      <td>1</td>\n",
       "      <td>6.9</td>\n",
       "      <td>40</td>\n",
       "      <td>39</td>\n",
       "      <td>3500</td>\n",
       "      <td>127</td>\n",
       "      <td>Piso</td>\n",
       "      <td>925.0</td>\n",
       "      <td>70.0</td>\n",
       "      <td>2</td>\n",
       "      <td>1</td>\n",
       "      <td>1</td>\n",
       "    </tr>\n",
       "    <tr>\n",
       "      <th>3</th>\n",
       "      <td>Alcalá de Henares</td>\n",
       "      <td>Madrid</td>\n",
       "      <td>Madrid</td>\n",
       "      <td>196888.0</td>\n",
       "      <td>1</td>\n",
       "      <td>6.9</td>\n",
       "      <td>40</td>\n",
       "      <td>39</td>\n",
       "      <td>3500</td>\n",
       "      <td>127</td>\n",
       "      <td>Piso</td>\n",
       "      <td>1400.0</td>\n",
       "      <td>107.0</td>\n",
       "      <td>2</td>\n",
       "      <td>2</td>\n",
       "      <td>1</td>\n",
       "    </tr>\n",
       "    <tr>\n",
       "      <th>4</th>\n",
       "      <td>Alcalá de Henares</td>\n",
       "      <td>Madrid</td>\n",
       "      <td>Madrid</td>\n",
       "      <td>196888.0</td>\n",
       "      <td>1</td>\n",
       "      <td>6.9</td>\n",
       "      <td>40</td>\n",
       "      <td>39</td>\n",
       "      <td>3500</td>\n",
       "      <td>127</td>\n",
       "      <td>Piso</td>\n",
       "      <td>875.0</td>\n",
       "      <td>57.0</td>\n",
       "      <td>3</td>\n",
       "      <td>1</td>\n",
       "      <td>0</td>\n",
       "    </tr>\n",
       "  </tbody>\n",
       "</table>\n",
       "</div>"
      ],
      "text/plain": [
       "           Municipio Provincia Comunidad Autónoma  Habitantes (2022)  \\\n",
       "0  Alcalá de Henares    Madrid             Madrid           196888.0   \n",
       "1  Alcalá de Henares    Madrid             Madrid           196888.0   \n",
       "2  Alcalá de Henares    Madrid             Madrid           196888.0   \n",
       "3  Alcalá de Henares    Madrid             Madrid           196888.0   \n",
       "4  Alcalá de Henares    Madrid             Madrid           196888.0   \n",
       "\n",
       "   Carril Bici  Rating  Distancia a Madrid (km)  \\\n",
       "0            1     6.9                       40   \n",
       "1            1     6.9                       40   \n",
       "2            1     6.9                       40   \n",
       "3            1     6.9                       40   \n",
       "4            1     6.9                       40   \n",
       "\n",
       "   Tiempo de viaje a Madrid (Min)  Precio medio vivienda (EUR/m2)  ICA  \\\n",
       "0                              39                            3500  127   \n",
       "1                              39                            3500  127   \n",
       "2                              39                            3500  127   \n",
       "3                              39                            3500  127   \n",
       "4                              39                            3500  127   \n",
       "\n",
       "  Tipo_vivienda  Precio  Superficie  Habitaciones  Baños  Comprado  \n",
       "0        Chalet  1500.0       139.0             5      3         1  \n",
       "1          Piso  1290.0       116.0             4      2         0  \n",
       "2          Piso   925.0        70.0             2      1         1  \n",
       "3          Piso  1400.0       107.0             2      2         1  \n",
       "4          Piso   875.0        57.0             3      1         0  "
      ]
     },
     "execution_count": 29,
     "metadata": {},
     "output_type": "execute_result"
    }
   ],
   "source": [
    "arbol = pd.read_excel(ruta_del_archivo)\n",
    "arbol.head()"
   ]
  },
  {
   "cell_type": "code",
   "execution_count": 30,
   "metadata": {},
   "outputs": [
    {
     "data": {
      "text/plain": [
       "array(['Chalet', 'Piso', 'Casa', 'Casa pareada'], dtype=object)"
      ]
     },
     "execution_count": 30,
     "metadata": {},
     "output_type": "execute_result"
    }
   ],
   "source": [
    "arbol[\"Tipo_vivienda\"].unique()"
   ]
  },
  {
   "cell_type": "code",
   "execution_count": 31,
   "metadata": {},
   "outputs": [],
   "source": [
    "#Tenemos que transformar el tipo de vivienda a numerico\n",
    "# Import label encoder \n",
    "from sklearn import preprocessing\n",
    "#label_encoder sabe cómo entender las etiquetas de las palabras.\n",
    "label_encoder = preprocessing.LabelEncoder()\n",
    "#Codificar etiquetas en columna\n",
    "arbol[\"Tipo_vivienda\"]= label_encoder.fit_transform(arbol[\"Tipo_vivienda\"])"
   ]
  },
  {
   "cell_type": "code",
   "execution_count": 32,
   "metadata": {},
   "outputs": [
    {
     "data": {
      "text/plain": [
       "array([2, 3, 0, 1])"
      ]
     },
     "execution_count": 32,
     "metadata": {},
     "output_type": "execute_result"
    }
   ],
   "source": [
    "arbol[\"Tipo_vivienda\"].unique()"
   ]
  },
  {
   "cell_type": "code",
   "execution_count": 33,
   "metadata": {},
   "outputs": [
    {
     "data": {
      "text/html": [
       "<div>\n",
       "<style scoped>\n",
       "    .dataframe tbody tr th:only-of-type {\n",
       "        vertical-align: middle;\n",
       "    }\n",
       "\n",
       "    .dataframe tbody tr th {\n",
       "        vertical-align: top;\n",
       "    }\n",
       "\n",
       "    .dataframe thead th {\n",
       "        text-align: right;\n",
       "    }\n",
       "</style>\n",
       "<table border=\"1\" class=\"dataframe\">\n",
       "  <thead>\n",
       "    <tr style=\"text-align: right;\">\n",
       "      <th></th>\n",
       "      <th>Municipio</th>\n",
       "      <th>Provincia</th>\n",
       "      <th>Comunidad Autónoma</th>\n",
       "      <th>Habitantes (2022)</th>\n",
       "      <th>Carril Bici</th>\n",
       "      <th>Rating</th>\n",
       "      <th>Distancia a Madrid (km)</th>\n",
       "      <th>Tiempo de viaje a Madrid (Min)</th>\n",
       "      <th>Precio medio vivienda (EUR/m2)</th>\n",
       "      <th>ICA</th>\n",
       "      <th>Tipo_vivienda</th>\n",
       "      <th>Precio</th>\n",
       "      <th>Superficie</th>\n",
       "      <th>Habitaciones</th>\n",
       "      <th>Baños</th>\n",
       "      <th>Comprado</th>\n",
       "    </tr>\n",
       "  </thead>\n",
       "  <tbody>\n",
       "    <tr>\n",
       "      <th>0</th>\n",
       "      <td>Alcalá de Henares</td>\n",
       "      <td>Madrid</td>\n",
       "      <td>Madrid</td>\n",
       "      <td>196888.0</td>\n",
       "      <td>1</td>\n",
       "      <td>6.9</td>\n",
       "      <td>40</td>\n",
       "      <td>39</td>\n",
       "      <td>3500</td>\n",
       "      <td>127</td>\n",
       "      <td>2</td>\n",
       "      <td>1500.0</td>\n",
       "      <td>139.0</td>\n",
       "      <td>5</td>\n",
       "      <td>3</td>\n",
       "      <td>1</td>\n",
       "    </tr>\n",
       "    <tr>\n",
       "      <th>1</th>\n",
       "      <td>Alcalá de Henares</td>\n",
       "      <td>Madrid</td>\n",
       "      <td>Madrid</td>\n",
       "      <td>196888.0</td>\n",
       "      <td>1</td>\n",
       "      <td>6.9</td>\n",
       "      <td>40</td>\n",
       "      <td>39</td>\n",
       "      <td>3500</td>\n",
       "      <td>127</td>\n",
       "      <td>3</td>\n",
       "      <td>1290.0</td>\n",
       "      <td>116.0</td>\n",
       "      <td>4</td>\n",
       "      <td>2</td>\n",
       "      <td>0</td>\n",
       "    </tr>\n",
       "    <tr>\n",
       "      <th>2</th>\n",
       "      <td>Alcalá de Henares</td>\n",
       "      <td>Madrid</td>\n",
       "      <td>Madrid</td>\n",
       "      <td>196888.0</td>\n",
       "      <td>1</td>\n",
       "      <td>6.9</td>\n",
       "      <td>40</td>\n",
       "      <td>39</td>\n",
       "      <td>3500</td>\n",
       "      <td>127</td>\n",
       "      <td>3</td>\n",
       "      <td>925.0</td>\n",
       "      <td>70.0</td>\n",
       "      <td>2</td>\n",
       "      <td>1</td>\n",
       "      <td>1</td>\n",
       "    </tr>\n",
       "  </tbody>\n",
       "</table>\n",
       "</div>"
      ],
      "text/plain": [
       "           Municipio Provincia Comunidad Autónoma  Habitantes (2022)  \\\n",
       "0  Alcalá de Henares    Madrid             Madrid           196888.0   \n",
       "1  Alcalá de Henares    Madrid             Madrid           196888.0   \n",
       "2  Alcalá de Henares    Madrid             Madrid           196888.0   \n",
       "\n",
       "   Carril Bici  Rating  Distancia a Madrid (km)  \\\n",
       "0            1     6.9                       40   \n",
       "1            1     6.9                       40   \n",
       "2            1     6.9                       40   \n",
       "\n",
       "   Tiempo de viaje a Madrid (Min)  Precio medio vivienda (EUR/m2)  ICA  \\\n",
       "0                              39                            3500  127   \n",
       "1                              39                            3500  127   \n",
       "2                              39                            3500  127   \n",
       "\n",
       "   Tipo_vivienda  Precio  Superficie  Habitaciones  Baños  Comprado  \n",
       "0              2  1500.0       139.0             5      3         1  \n",
       "1              3  1290.0       116.0             4      2         0  \n",
       "2              3   925.0        70.0             2      1         1  "
      ]
     },
     "execution_count": 33,
     "metadata": {},
     "output_type": "execute_result"
    }
   ],
   "source": [
    "#Ahora escogemos las columnas que vamos a utilizar\n",
    "arbol.head(3)"
   ]
  },
  {
   "cell_type": "code",
   "execution_count": 34,
   "metadata": {},
   "outputs": [
    {
     "data": {
      "text/html": [
       "<div>\n",
       "<style scoped>\n",
       "    .dataframe tbody tr th:only-of-type {\n",
       "        vertical-align: middle;\n",
       "    }\n",
       "\n",
       "    .dataframe tbody tr th {\n",
       "        vertical-align: top;\n",
       "    }\n",
       "\n",
       "    .dataframe thead th {\n",
       "        text-align: right;\n",
       "    }\n",
       "</style>\n",
       "<table border=\"1\" class=\"dataframe\">\n",
       "  <thead>\n",
       "    <tr style=\"text-align: right;\">\n",
       "      <th></th>\n",
       "      <th>Habitantes (2022)</th>\n",
       "      <th>Rating</th>\n",
       "      <th>ICA</th>\n",
       "      <th>Tipo_vivienda</th>\n",
       "      <th>Precio</th>\n",
       "      <th>Superficie</th>\n",
       "      <th>Habitaciones</th>\n",
       "      <th>Baños</th>\n",
       "      <th>Comprado</th>\n",
       "    </tr>\n",
       "  </thead>\n",
       "  <tbody>\n",
       "    <tr>\n",
       "      <th>0</th>\n",
       "      <td>196888.0</td>\n",
       "      <td>6.9</td>\n",
       "      <td>127</td>\n",
       "      <td>2</td>\n",
       "      <td>1500.0</td>\n",
       "      <td>139.0</td>\n",
       "      <td>5</td>\n",
       "      <td>3</td>\n",
       "      <td>1</td>\n",
       "    </tr>\n",
       "    <tr>\n",
       "      <th>1</th>\n",
       "      <td>196888.0</td>\n",
       "      <td>6.9</td>\n",
       "      <td>127</td>\n",
       "      <td>3</td>\n",
       "      <td>1290.0</td>\n",
       "      <td>116.0</td>\n",
       "      <td>4</td>\n",
       "      <td>2</td>\n",
       "      <td>0</td>\n",
       "    </tr>\n",
       "    <tr>\n",
       "      <th>2</th>\n",
       "      <td>196888.0</td>\n",
       "      <td>6.9</td>\n",
       "      <td>127</td>\n",
       "      <td>3</td>\n",
       "      <td>925.0</td>\n",
       "      <td>70.0</td>\n",
       "      <td>2</td>\n",
       "      <td>1</td>\n",
       "      <td>1</td>\n",
       "    </tr>\n",
       "    <tr>\n",
       "      <th>3</th>\n",
       "      <td>196888.0</td>\n",
       "      <td>6.9</td>\n",
       "      <td>127</td>\n",
       "      <td>3</td>\n",
       "      <td>1400.0</td>\n",
       "      <td>107.0</td>\n",
       "      <td>2</td>\n",
       "      <td>2</td>\n",
       "      <td>1</td>\n",
       "    </tr>\n",
       "    <tr>\n",
       "      <th>4</th>\n",
       "      <td>196888.0</td>\n",
       "      <td>6.9</td>\n",
       "      <td>127</td>\n",
       "      <td>3</td>\n",
       "      <td>875.0</td>\n",
       "      <td>57.0</td>\n",
       "      <td>3</td>\n",
       "      <td>1</td>\n",
       "      <td>0</td>\n",
       "    </tr>\n",
       "  </tbody>\n",
       "</table>\n",
       "</div>"
      ],
      "text/plain": [
       "   Habitantes (2022)  Rating  ICA  Tipo_vivienda  Precio  Superficie  \\\n",
       "0           196888.0     6.9  127              2  1500.0       139.0   \n",
       "1           196888.0     6.9  127              3  1290.0       116.0   \n",
       "2           196888.0     6.9  127              3   925.0        70.0   \n",
       "3           196888.0     6.9  127              3  1400.0       107.0   \n",
       "4           196888.0     6.9  127              3   875.0        57.0   \n",
       "\n",
       "   Habitaciones  Baños  Comprado  \n",
       "0             5      3         1  \n",
       "1             4      2         0  \n",
       "2             2      1         1  \n",
       "3             2      2         1  \n",
       "4             3      1         0  "
      ]
     },
     "execution_count": 34,
     "metadata": {},
     "output_type": "execute_result"
    }
   ],
   "source": [
    "prueba_arbol = arbol[[\"Habitantes (2022)\",\"Rating\",\"ICA\",\"Tipo_vivienda\",\"Precio\",\"Superficie\",\"Habitaciones\",\"Baños\",\"Comprado\"]]\n",
    "prueba_arbol.head()"
   ]
  },
  {
   "cell_type": "code",
   "execution_count": 35,
   "metadata": {},
   "outputs": [
    {
     "data": {
      "text/plain": [
       "array(['Alcalá de Henares', 'San Sebastián de los Reyes',\n",
       "       'Madrid Capital', 'Pozuelo de Alarcón', 'Móstoles', 'Fuenlabrada',\n",
       "       'Las Rozas de Madrid', 'La Moraleja', 'Other', 'Majadahonda',\n",
       "       'Boadilla del Monte'], dtype=object)"
      ]
     },
     "execution_count": 35,
     "metadata": {},
     "output_type": "execute_result"
    }
   ],
   "source": [
    "df[\"Municipio\"].unique()"
   ]
  },
  {
   "cell_type": "code",
   "execution_count": 36,
   "metadata": {},
   "outputs": [
    {
     "data": {
      "text/plain": [
       "array([6.9, 7.7, 8.9, 7.9, 8.6, 9.5, 7.5, 6.4])"
      ]
     },
     "execution_count": 36,
     "metadata": {},
     "output_type": "execute_result"
    }
   ],
   "source": [
    "prueba_arbol[\"Rating\"].unique()"
   ]
  },
  {
   "cell_type": "code",
   "execution_count": 37,
   "metadata": {},
   "outputs": [],
   "source": [
    "feature_cols = [\"Habitantes (2022)\",\"Rating\",\"ICA\",\"Precio\",\"Superficie\",\"Habitaciones\",\"Baños\",\"Comprado\"]\n",
    "X = prueba_arbol[feature_cols]\n",
    "y = prueba_arbol['Tipo_vivienda']"
   ]
  },
  {
   "cell_type": "code",
   "execution_count": 38,
   "metadata": {},
   "outputs": [
    {
     "name": "stdout",
     "output_type": "stream",
     "text": [
      "      Habitantes (2022)  Rating  ICA  Precio  Superficie  Habitaciones  Baños  \\\n",
      "0              196888.0     6.9  127  1500.0     139.000             5      3   \n",
      "1              196888.0     6.9  127  1290.0     116.000             4      2   \n",
      "2              196888.0     6.9  127   925.0      70.000             2      1   \n",
      "3              196888.0     6.9  127  1400.0     107.000             2      2   \n",
      "4              196888.0     6.9  127   875.0      57.000             3      1   \n",
      "...                 ...     ...  ...     ...         ...           ...    ...   \n",
      "1525            80596.0     6.4  133   900.0      50.000             1      1   \n",
      "1526            80596.0     6.4  133  3600.0     334.000             4      3   \n",
      "1527            80596.0     6.4  133  7000.0       1.665             9      6   \n",
      "1528            80596.0     6.4  133  1450.0     196.000             2      2   \n",
      "1529            80596.0     6.4  133  1700.0     120.000             3      2   \n",
      "\n",
      "      Comprado  \n",
      "0            1  \n",
      "1            0  \n",
      "2            1  \n",
      "3            1  \n",
      "4            0  \n",
      "...        ...  \n",
      "1525         0  \n",
      "1526         0  \n",
      "1527         0  \n",
      "1528         0  \n",
      "1529         0  \n",
      "\n",
      "[1530 rows x 8 columns]\n"
     ]
    }
   ],
   "source": [
    "print(X)"
   ]
  },
  {
   "cell_type": "code",
   "execution_count": 39,
   "metadata": {},
   "outputs": [
    {
     "name": "stdout",
     "output_type": "stream",
     "text": [
      "0       2\n",
      "1       3\n",
      "2       3\n",
      "3       3\n",
      "4       3\n",
      "       ..\n",
      "1525    3\n",
      "1526    2\n",
      "1527    2\n",
      "1528    3\n",
      "1529    3\n",
      "Name: Tipo_vivienda, Length: 1530, dtype: int32\n"
     ]
    }
   ],
   "source": [
    "print(y)"
   ]
  },
  {
   "cell_type": "code",
   "execution_count": 40,
   "metadata": {},
   "outputs": [],
   "source": [
    "from sklearn.model_selection import train_test_split\n",
    "from sklearn import metrics\n",
    "X_train, X_test,y_train,y_test = train_test_split(X,y,test_size=0.3,random_state=42)"
   ]
  },
  {
   "cell_type": "code",
   "execution_count": 41,
   "metadata": {},
   "outputs": [
    {
     "name": "stdout",
     "output_type": "stream",
     "text": [
      "Accuracy: 0.8910675381263616\n"
     ]
    }
   ],
   "source": [
    "# crear arbol de decision\n",
    "from sklearn.tree import DecisionTreeClassifier\n",
    "# Create Decision Tree classifier object using entropy\n",
    "clf_entropy = DecisionTreeClassifier(criterion=\"entropy\", max_depth=3)\n",
    "\n",
    "# Train Decision Tree Classifier\n",
    "clf_entropy = clf_entropy.fit(X_train,y_train)\n",
    "#Predict the response for test dataset\n",
    "y_pred = clf_entropy.predict(X_test)\n",
    "\n",
    "\n",
    "print(\"Accuracy:\", metrics.accuracy_score(y_test,y_pred))"
   ]
  },
  {
   "cell_type": "code",
   "execution_count": 42,
   "metadata": {},
   "outputs": [
    {
     "data": {
      "image/png": "[encoded data removed]",
      "text/plain": [
       "<Figure size 1200x800 with 1 Axes>"
      ]
     },
     "metadata": {},
     "output_type": "display_data"
    },
    {
     "name": "stdout",
     "output_type": "stream",
     "text": [
      "Accuracy: 0.8910675381263616\n"
     ]
    }
   ],
   "source": [
    "from sklearn.tree import DecisionTreeClassifier, plot_tree\n",
    "import matplotlib.pyplot as plt\n",
    "\n",
    "# Convertir las etiquetas de clase a cadenas si es necesario\n",
    "class_names_str = [str(class_) for class_ in clf_entropy.classes_]\n",
    "\n",
    "# Visualizar el árbol de decisión directamente en la salida del código\n",
    "plt.figure(figsize=(12, 8))\n",
    "plot_tree(clf_entropy, filled=True, feature_names=feature_cols, class_names=class_names_str)\n",
    "plt.show()\n",
    "\n",
    "# Evaluar la precisión del modelo\n",
    "y_pred = clf_entropy.predict(X_test)\n",
    "print(\"Accuracy:\", metrics.accuracy_score(y_test, y_pred))"
   ]
  },
  {
   "cell_type": "markdown",
   "metadata": {},
   "source": [
    "### Otro"
   ]
  },
  {
   "cell_type": "code",
   "execution_count": null,
   "metadata": {},
   "outputs": [],
   "source": []
  }
 ],
 "metadata": {
  "kernelspec": {
   "display_name": "Python 3",
   "language": "python",
   "name": "python3"
  },
  "language_info": {
   "codemirror_mode": {
    "name": "ipython",
    "version": 3
   },
   "file_extension": ".py",
   "mimetype": "text/x-python",
   "name": "python",
   "nbconvert_exporter": "python",
   "pygments_lexer": "ipython3",
   "version": "3.10.11"
  }
 },
 "nbformat": 4,
 "nbformat_minor": 2
}
